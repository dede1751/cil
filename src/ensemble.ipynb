{
  "nbformat": 4,
  "nbformat_minor": 0,
  "metadata": {
    "colab": {
      "provenance": []
    },
    "kernelspec": {
      "name": "python3",
      "display_name": "Python 3"
    },
    "language_info": {
      "name": "python"
    }
  },
  "cells": [
    {
      "cell_type": "code",
      "execution_count": 9,
      "metadata": {
        "colab": {
          "base_uri": "https://localhost:8080/"
        },
        "id": "ULAI62VJCqui",
        "outputId": "885a780c-a97d-4966-e006-3a07f72a4581"
      },
      "outputs": [
        {
          "output_type": "stream",
          "name": "stdout",
          "text": [
            "Requirement already satisfied: scikit-learn in /usr/local/lib/python3.10/dist-packages (1.3.2)\n",
            "Requirement already satisfied: numpy<2.0,>=1.17.3 in /usr/local/lib/python3.10/dist-packages (from scikit-learn) (1.25.2)\n",
            "Requirement already satisfied: scipy>=1.5.0 in /usr/local/lib/python3.10/dist-packages (from scikit-learn) (1.13.1)\n",
            "Requirement already satisfied: joblib>=1.1.1 in /usr/local/lib/python3.10/dist-packages (from scikit-learn) (1.4.2)\n",
            "Requirement already satisfied: threadpoolctl>=2.0.0 in /usr/local/lib/python3.10/dist-packages (from scikit-learn) (3.5.0)\n"
          ]
        }
      ],
      "source": [
        "!pip install scikit-learn"
      ]
    },
    {
      "cell_type": "code",
      "source": [
        "import numpy as np\n",
        "from sklearn.linear_model import LinearRegression, LogisticRegression, Ridge\n",
        "from sklearn.metrics import accuracy_score\n",
        "from sklearn.model_selection import train_test_split"
      ],
      "metadata": {
        "id": "VF1RPI_mD-nG"
      },
      "execution_count": 10,
      "outputs": []
    },
    {
      "cell_type": "code",
      "source": [
        "import os\n",
        "import random\n",
        "import torch\n",
        "\n",
        "def set_seed(seed: int):\n",
        "    \"\"\"\n",
        "    Sets random number generator seeds for PyTorch and NumPy to ensure reproducibility of results.\n",
        "    \"\"\"\n",
        "    torch.manual_seed(seed)\n",
        "    torch.cuda.manual_seed_all(seed)\n",
        "    torch.backends.cudnn.deterministic = True\n",
        "    torch.backends.cudnn.benchmark = False\n",
        "    np.random.seed(seed)\n",
        "    random.seed(seed)\n",
        "    os.environ['PYTHONHASHSEED'] = str(seed)\n",
        "\n",
        "\n",
        "def save_outputs(outputs: np.ndarray, file_name: str):\n",
        "    \"\"\"\n",
        "    Save the model outputs to a file.\n",
        "    :param outputs: Model outputs, np.ndarry with shape (10'000,) and values in {-1, 1}\n",
        "    \"\"\"\n",
        "    indices = np.arange(1, outputs.shape[0] + 1)\n",
        "    combined = np.column_stack((indices, outputs))\n",
        "\n",
        "    np.savetxt(\n",
        "        f'{file_name}.csv', combined, delimiter=',', fmt='%d', header=\"Id,Prediction\", comments='')"
      ],
      "metadata": {
        "id": "jVin1gd6JCtV"
      },
      "execution_count": 11,
      "outputs": []
    },
    {
      "cell_type": "code",
      "source": [
        "models = [0, 1, 3, 5, 6]\n",
        "results = {}\n",
        "THRESHOLD = 0.5\n",
        "seed = 42\n",
        "set_seed(seed)"
      ],
      "metadata": {
        "id": "bNKE9POcEAGj"
      },
      "execution_count": 12,
      "outputs": []
    },
    {
      "cell_type": "code",
      "source": [
        "eval_labels = np.load('drive/MyDrive/eval_labels.npy')\n",
        "eval_outputs = np.load('drive/MyDrive/eval_outputs.npy')[:, models]\n",
        "test_outputs = np.load('drive/MyDrive/test_outputs.npy')[:, models]\n",
        "\n",
        "print(eval_labels.shape, eval_outputs.shape, test_outputs.shape)"
      ],
      "metadata": {
        "colab": {
          "base_uri": "https://localhost:8080/"
        },
        "id": "HiagCCK1s9eR",
        "outputId": "01f84140-83b2-4645-d32a-7aed1a1b5727"
      },
      "execution_count": 13,
      "outputs": [
        {
          "output_type": "stream",
          "name": "stdout",
          "text": [
            "(125000,) (125000, 5) (10000, 5)\n"
          ]
        }
      ]
    },
    {
      "cell_type": "code",
      "source": [
        "trainX, testX, trainY, testY = train_test_split(eval_outputs, eval_labels, test_size=0.5, random_state=seed)\n",
        "print(trainX.shape, testX.shape)"
      ],
      "metadata": {
        "colab": {
          "base_uri": "https://localhost:8080/"
        },
        "id": "uvxuppNrTbwx",
        "outputId": "e65e8bf1-74c7-4c16-dcc2-570bdc19fce3"
      },
      "execution_count": 14,
      "outputs": [
        {
          "output_type": "stream",
          "name": "stdout",
          "text": [
            "(62500, 5) (62500, 5)\n"
          ]
        }
      ]
    },
    {
      "cell_type": "code",
      "source": [
        "predictions = np.where(np.mean(testX, axis=1) >= THRESHOLD, 1, 0)\n",
        "print(f\"averaging accuracy: {accuracy_score(predictions, testY):.3%}\")\n",
        "\n",
        "results[\"avg\"] = np.mean(test_outputs, axis=1)\n",
        "results[\"avg\"] = np.where(results[\"avg\"] >= THRESHOLD, 1, -1)"
      ],
      "metadata": {
        "colab": {
          "base_uri": "https://localhost:8080/"
        },
        "id": "rZpMA_YjGsYu",
        "outputId": "2bec778d-96e3-43f2-d314-fab4ad222936"
      },
      "execution_count": 15,
      "outputs": [
        {
          "output_type": "stream",
          "name": "stdout",
          "text": [
            "averaging accuracy: 92.091%\n"
          ]
        }
      ]
    },
    {
      "cell_type": "code",
      "source": [
        "names = [\"linear\", \"logistic\", \"ridge\"]\n",
        "models = [LinearRegression(), LogisticRegression(), Ridge()]\n",
        "\n",
        "for name, model in zip(names, models):\n",
        "  model.fit(trainX, trainY)\n",
        "  print(f\"\\n[{name}]\\nModel Importance Weights:\\n{model.coef_}\")\n",
        "\n",
        "  predictions = model.predict(testX)\n",
        "  predictions = np.where(predictions >= THRESHOLD, 1, 0)\n",
        "\n",
        "  print(f\"Accuracy: {accuracy_score(predictions, testY):.3%}\")\n",
        "\n",
        "  results[name] = model.predict(test_outputs)\n",
        "  results[name] = np.where(results[name] >= THRESHOLD, 1, -1)\n",
        "  diff = np.sum(results[\"avg\"] != results[name])\n",
        "  print(f\"Predictions Changed: {diff}\")"
      ],
      "metadata": {
        "colab": {
          "base_uri": "https://localhost:8080/"
        },
        "id": "NOLK-IgkE7We",
        "outputId": "f535d1d0-f7f7-4185-b574-64fe3e1a284a"
      },
      "execution_count": 16,
      "outputs": [
        {
          "output_type": "stream",
          "name": "stdout",
          "text": [
            "\n",
            "[linear]\n",
            "Model Importance Weights:\n",
            "[0.17102246 0.15504503 0.3241998  0.11704742 0.18421954]\n",
            "Accuracy: 92.126%\n",
            "Predictions Changed: 75\n",
            "\n",
            "[logistic]\n",
            "Model Importance Weights:\n",
            "[[1.11279969 0.95518546 1.98450304 0.99651275 1.36162118]]\n",
            "Accuracy: 92.123%\n",
            "Predictions Changed: 41\n",
            "\n",
            "[ridge]\n",
            "Model Importance Weights:\n",
            "[0.17083856 0.15519723 0.3237853  0.11549127 0.18620732]\n",
            "Accuracy: 92.125%\n",
            "Predictions Changed: 74\n"
          ]
        }
      ]
    },
    {
      "cell_type": "code",
      "source": [
        "for name in names:\n",
        "  save_outputs(results[name], name)"
      ],
      "metadata": {
        "id": "sq1y2eLGJJth"
      },
      "execution_count": 17,
      "outputs": []
    }
  ]
}