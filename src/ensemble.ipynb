{
  "nbformat": 4,
  "nbformat_minor": 0,
  "metadata": {
    "colab": {
      "provenance": []
    },
    "kernelspec": {
      "name": "python3",
      "display_name": "Python 3"
    },
    "language_info": {
      "name": "python"
    }
  },
  "cells": [
    {
      "cell_type": "code",
      "source": [
        "import numpy as np\n",
        "from sklearn.linear_model import LinearRegression, LogisticRegression, Ridge\n",
        "from sklearn.metrics import accuracy_score\n",
        "from sklearn.model_selection import train_test_split"
      ],
      "metadata": {
        "id": "VF1RPI_mD-nG"
      },
      "execution_count": null,
      "outputs": []
    },
    {
      "cell_type": "code",
      "source": [
        "import os\n",
        "import random\n",
        "import torch\n",
        "\n",
        "def set_seed(seed: int):\n",
        "    \"\"\"\n",
        "    Sets random number generator seeds for PyTorch and NumPy to ensure reproducibility of results.\n",
        "    \"\"\"\n",
        "    torch.manual_seed(seed)\n",
        "    torch.cuda.manual_seed_all(seed)\n",
        "    torch.backends.cudnn.deterministic = True\n",
        "    torch.backends.cudnn.benchmark = False\n",
        "    np.random.seed(seed)\n",
        "    random.seed(seed)\n",
        "    os.environ['PYTHONHASHSEED'] = str(seed)\n",
        "\n",
        "\n",
        "def save_outputs(outputs: np.ndarray, file_name: str):\n",
        "    \"\"\"\n",
        "    Save the model outputs to a file.\n",
        "    :param outputs: Model outputs, np.ndarry with shape (10'000,) and values in {-1, 1}\n",
        "    \"\"\"\n",
        "    indices = np.arange(1, outputs.shape[0] + 1)\n",
        "    combined = np.column_stack((indices, outputs))\n",
        "\n",
        "    np.savetxt(\n",
        "        f'{file_name}.csv', combined, delimiter=',', fmt='%d', header=\"Id,Prediction\", comments='')"
      ],
      "metadata": {
        "id": "jVin1gd6JCtV"
      },
      "execution_count": null,
      "outputs": []
    },
    {
      "cell_type": "code",
      "source": [
        "models = [0, 1, 2, 3, 4, 5, 6]\n",
        "results = {}\n",
        "THRESHOLD = 0.5\n",
        "seed = 42\n",
        "set_seed(seed)"
      ],
      "metadata": {
        "id": "bNKE9POcEAGj"
      },
      "execution_count": null,
      "outputs": []
    },
    {
      "cell_type": "code",
      "source": [
        "eval_labels = np.load('drive/MyDrive/ensemble-6/eval_labels.npy')\n",
        "eval_outputs = np.load('drive/MyDrive/ensemble-6/eval_outputs.npy')[:, models]\n",
        "test_outputs = np.load('drive/MyDrive/ensemble-6/test_outputs.npy')[:, models]\n",
        "\n",
        "eval_labels.shape, eval_outputs.shape, test_outputs.shape"
      ],
      "metadata": {
        "colab": {
          "base_uri": "https://localhost:8080/"
        },
        "id": "HiagCCK1s9eR",
        "outputId": "dd066f5d-4770-4c2e-c8e0-b73a57d67ea8"
      },
      "execution_count": null,
      "outputs": [
        {
          "output_type": "execute_result",
          "data": {
            "text/plain": [
              "((125000,), (125000, 7), (10000, 7))"
            ]
          },
          "metadata": {},
          "execution_count": 104
        }
      ]
    },
    {
      "cell_type": "code",
      "source": [
        "trainX, testX, trainY, testY = train_test_split(eval_outputs, eval_labels, test_size=0.2, random_state=seed)\n",
        "print(trainX.shape, testX.shape)"
      ],
      "metadata": {
        "colab": {
          "base_uri": "https://localhost:8080/"
        },
        "id": "uvxuppNrTbwx",
        "outputId": "d9bd7230-516c-4abe-ae7a-f1bd4b1bebc9"
      },
      "execution_count": null,
      "outputs": [
        {
          "output_type": "stream",
          "name": "stdout",
          "text": [
            "(100000, 7) (25000, 7)\n"
          ]
        }
      ]
    },
    {
      "cell_type": "code",
      "source": [
        "predictions = np.where(np.mean(testX, axis=1) >= THRESHOLD, 1, 0)\n",
        "print(f\"averaging accuracy: {accuracy_score(predictions, testY):.3%}\")\n",
        "\n",
        "results[\"avg\"] = np.mean(test_outputs, axis=1)\n",
        "results[\"avg\"] = np.where(results[\"avg\"] >= THRESHOLD, 1, -1)"
      ],
      "metadata": {
        "colab": {
          "base_uri": "https://localhost:8080/"
        },
        "id": "rZpMA_YjGsYu",
        "outputId": "846e3f81-6116-4c9f-c48e-0714f353ae01"
      },
      "execution_count": null,
      "outputs": [
        {
          "output_type": "stream",
          "name": "stdout",
          "text": [
            "averaging accuracy: 92.308%\n"
          ]
        }
      ]
    },
    {
      "cell_type": "code",
      "source": [
        "names = [\"linear\", \"logistic\", \"ridge\"]\n",
        "models = [LinearRegression(), LogisticRegression(), Ridge()]\n",
        "\n",
        "for name, model in zip(names, models):\n",
        "  model.fit(trainX, trainY)\n",
        "  print(f\"\\n[{name}]\\nModel Importance Weights:\\n{model.coef_}\")\n",
        "\n",
        "  predictions = model.predict(testX)\n",
        "  predictions = np.where(predictions >= THRESHOLD, 1, 0)\n",
        "\n",
        "  print(f\"Accuracy: {accuracy_score(predictions, testY):.3%}\")\n",
        "\n",
        "  results[name] = model.predict(test_outputs)\n",
        "  results[name] = np.where(results[name] >= THRESHOLD, 1, -1)\n",
        "  diff = np.sum(results[\"avg\"] != results[name])\n",
        "  print(f\"Predictions Changed: {diff}\")"
      ],
      "metadata": {
        "colab": {
          "base_uri": "https://localhost:8080/"
        },
        "id": "NOLK-IgkE7We",
        "outputId": "e9a41e80-2e70-478f-8a2d-6a971c0d5dfe"
      },
      "execution_count": null,
      "outputs": [
        {
          "output_type": "stream",
          "name": "stdout",
          "text": [
            "\n",
            "[linear]\n",
            "Model Importance Weights:\n",
            "[0.47138804 0.06074461 0.07651936 0.2139681  0.0399704  0.05053887\n",
            " 0.06261042]\n",
            "Accuracy: 92.432%\n",
            "Predictions Changed: 153\n",
            "\n",
            "[logistic]\n",
            "Model Importance Weights:\n",
            "[[3.03838988 0.42381916 0.35648013 1.32799774 0.39109272 0.3015574\n",
            "  0.99036067]]\n",
            "Accuracy: 92.444%\n",
            "Predictions Changed: 153\n",
            "\n",
            "[ridge]\n",
            "Model Importance Weights:\n",
            "[0.46820664 0.06034589 0.07678206 0.2136854  0.04296731 0.04759704\n",
            " 0.06627076]\n",
            "Accuracy: 92.420%\n",
            "Predictions Changed: 152\n"
          ]
        }
      ]
    },
    {
      "cell_type": "code",
      "source": [
        "for name in names:\n",
        "  save_outputs(results[name], name)"
      ],
      "metadata": {
        "id": "sq1y2eLGJJth"
      },
      "execution_count": null,
      "outputs": []
    }
  ]
}