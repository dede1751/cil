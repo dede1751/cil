{
  "nbformat": 4,
  "nbformat_minor": 0,
  "metadata": {
    "colab": {
      "provenance": []
    },
    "kernelspec": {
      "name": "python3",
      "display_name": "Python 3"
    },
    "language_info": {
      "name": "python"
    }
  },
  "cells": [
    {
      "cell_type": "code",
      "execution_count": 2,
      "metadata": {
        "colab": {
          "base_uri": "https://localhost:8080/"
        },
        "id": "ULAI62VJCqui",
        "outputId": "68ae3ff1-1010-488d-c7bf-60b29f2c9d40"
      },
      "outputs": [
        {
          "output_type": "stream",
          "name": "stdout",
          "text": [
            "Requirement already satisfied: scikit-learn in /usr/local/lib/python3.10/dist-packages (1.2.2)\n",
            "Requirement already satisfied: numpy>=1.17.3 in /usr/local/lib/python3.10/dist-packages (from scikit-learn) (1.25.2)\n",
            "Requirement already satisfied: scipy>=1.3.2 in /usr/local/lib/python3.10/dist-packages (from scikit-learn) (1.11.4)\n",
            "Requirement already satisfied: joblib>=1.1.1 in /usr/local/lib/python3.10/dist-packages (from scikit-learn) (1.4.2)\n",
            "Requirement already satisfied: threadpoolctl>=2.0.0 in /usr/local/lib/python3.10/dist-packages (from scikit-learn) (3.5.0)\n"
          ]
        }
      ],
      "source": [
        "!pip install scikit-learn"
      ]
    },
    {
      "cell_type": "code",
      "source": [
        "import numpy as np\n",
        "from sklearn.linear_model import LinearRegression, LogisticRegression, Ridge\n",
        "from sklearn.metrics import accuracy_score\n",
        "from sklearn.model_selection import train_test_split"
      ],
      "metadata": {
        "id": "VF1RPI_mD-nG"
      },
      "execution_count": 113,
      "outputs": []
    },
    {
      "cell_type": "code",
      "source": [
        "models = [0, 1, 3, 5, 6]\n",
        "results = {}\n",
        "THRESHOLD = 0.5\n",
        "\n",
        "eval_labels = np.load('drive/MyDrive/eval_labels.npy')\n",
        "eval_outputs = np.load('drive/MyDrive/eval_outputs.npy')[:, models]\n",
        "test_outputs = np.load('drive/MyDrive/test_outputs.npy')[:, models]\n",
        "\n",
        "print(eval_labels.shape, eval_outputs.shape, test_outputs.shape)"
      ],
      "metadata": {
        "colab": {
          "base_uri": "https://localhost:8080/"
        },
        "id": "bNKE9POcEAGj",
        "outputId": "4e5e5508-088c-4107-b132-1b6d25df2d70"
      },
      "execution_count": 130,
      "outputs": [
        {
          "output_type": "stream",
          "name": "stdout",
          "text": [
            "(125000,) (125000, 5) (10000, 5)\n"
          ]
        }
      ]
    },
    {
      "cell_type": "code",
      "source": [
        "trainX, testX, trainY, testY = train_test_split(eval_outputs, eval_labels, test_size=0.5)\n",
        "print(trainX.shape, testX.shape)"
      ],
      "metadata": {
        "colab": {
          "base_uri": "https://localhost:8080/"
        },
        "id": "uvxuppNrTbwx",
        "outputId": "f122e36e-97a2-4aea-db79-d38a6bbfd81b"
      },
      "execution_count": 131,
      "outputs": [
        {
          "output_type": "stream",
          "name": "stdout",
          "text": [
            "(62500, 5) (62500, 5)\n"
          ]
        }
      ]
    },
    {
      "cell_type": "code",
      "source": [
        "predictions = np.where(np.mean(eval_outputs, axis=1) >= THRESHOLD, 1, 0)\n",
        "print(f\"averaging accuracy: {accuracy_score(predictions, eval_labels):.3%}\")\n",
        "\n",
        "results[\"avg\"] = np.mean(test_outputs, axis=1)\n",
        "results[\"avg\"] = np.where(results[\"avg\"] >= THRESHOLD, 1, -1)"
      ],
      "metadata": {
        "colab": {
          "base_uri": "https://localhost:8080/"
        },
        "id": "rZpMA_YjGsYu",
        "outputId": "e8122518-ebee-40e4-ade8-42eaeba2dd83"
      },
      "execution_count": 132,
      "outputs": [
        {
          "output_type": "stream",
          "name": "stdout",
          "text": [
            "averaging accuracy: 92.126%\n"
          ]
        }
      ]
    },
    {
      "cell_type": "code",
      "source": [
        "names = [\"linear\", \"logistic\", \"ridge\"]\n",
        "models = [LinearRegression(), LogisticRegression(), Ridge()]\n",
        "\n",
        "for name, model in zip(names, models):\n",
        "  model.fit(trainX, trainY)\n",
        "  print(f\"\\n[{name}]\\nModel Importance Weights:\\n{model.coef_}\")\n",
        "\n",
        "  predictions = model.predict(testX)\n",
        "  predictions = np.where(predictions >= THRESHOLD, 1, 0)\n",
        "\n",
        "  print(f\"Accuracy: {accuracy_score(predictions, testY):.3%}\")\n",
        "\n",
        "  results[name] = model.predict(test_outputs)\n",
        "  results[name] = np.where(results[name] >= THRESHOLD, 1, -1)\n",
        "  diff = np.sum(results[\"avg\"] != results[name])\n",
        "  print(f\"Predictions Changed: {diff}\")"
      ],
      "metadata": {
        "colab": {
          "base_uri": "https://localhost:8080/"
        },
        "id": "NOLK-IgkE7We",
        "outputId": "93bbd6d3-3199-49b6-d41f-00a9b4ef8c86"
      },
      "execution_count": 133,
      "outputs": [
        {
          "output_type": "stream",
          "name": "stdout",
          "text": [
            "\n",
            "[linear]\n",
            "Model Importance Weights:\n",
            "[0.14142618 0.20179898 0.3031399  0.11619852 0.18587813]\n",
            "Accuracy: 92.274%\n",
            "Predictions Changed: 57\n",
            "\n",
            "[logistic]\n",
            "Model Importance Weights:\n",
            "[[0.91610326 1.22722565 1.85691913 0.98165256 1.36900319]]\n",
            "Accuracy: 92.294%\n",
            "Predictions Changed: 37\n",
            "\n",
            "[ridge]\n",
            "Model Importance Weights:\n",
            "[0.14185993 0.2014356  0.30289885 0.1158291  0.18640898]\n",
            "Accuracy: 92.274%\n",
            "Predictions Changed: 57\n"
          ]
        }
      ]
    },
    {
      "cell_type": "code",
      "source": [
        "def save_outputs(outputs: np.ndarray, file_name: str):\n",
        "    \"\"\"\n",
        "    Save the model outputs to a file.\n",
        "    :param outputs: Model outputs, np.ndarry with shape (10'000,) and values in {-1, 1}\n",
        "    \"\"\"\n",
        "    indices = np.arange(1, outputs.shape[0] + 1)\n",
        "    combined = np.column_stack((indices, outputs))\n",
        "\n",
        "    np.savetxt(\n",
        "        f'{file_name}.csv', combined, delimiter=',', fmt='%d', header=\"Id,Prediction\", comments='')"
      ],
      "metadata": {
        "id": "jVin1gd6JCtV"
      },
      "execution_count": 134,
      "outputs": []
    },
    {
      "cell_type": "code",
      "source": [
        "for name in names:\n",
        "  save_outputs(results[name], name)"
      ],
      "metadata": {
        "id": "sq1y2eLGJJth"
      },
      "execution_count": 135,
      "outputs": []
    }
  ]
}