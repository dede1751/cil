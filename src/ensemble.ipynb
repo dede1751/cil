{
  "nbformat": 4,
  "nbformat_minor": 0,
  "metadata": {
    "colab": {
      "provenance": []
    },
    "kernelspec": {
      "name": "python3",
      "display_name": "Python 3"
    },
    "language_info": {
      "name": "python"
    }
  },
  "cells": [
    {
      "cell_type": "code",
      "source": [
        "import numpy as np\n",
        "from sklearn.linear_model import LinearRegression, LogisticRegression, Ridge\n",
        "from sklearn.metrics import accuracy_score\n",
        "from sklearn.model_selection import train_test_split"
      ],
      "metadata": {
        "id": "VF1RPI_mD-nG"
      },
      "execution_count": 36,
      "outputs": []
    },
    {
      "cell_type": "code",
      "source": [
        "import os\n",
        "import random\n",
        "import torch\n",
        "\n",
        "def set_seed(seed: int):\n",
        "    \"\"\"\n",
        "    Sets random number generator seeds for PyTorch and NumPy to ensure reproducibility of results.\n",
        "    \"\"\"\n",
        "    torch.manual_seed(seed)\n",
        "    torch.cuda.manual_seed_all(seed)\n",
        "    torch.backends.cudnn.deterministic = True\n",
        "    torch.backends.cudnn.benchmark = False\n",
        "    np.random.seed(seed)\n",
        "    random.seed(seed)\n",
        "    os.environ['PYTHONHASHSEED'] = str(seed)\n",
        "\n",
        "\n",
        "def save_outputs(outputs: np.ndarray, file_name: str):\n",
        "    \"\"\"\n",
        "    Save the model outputs to a file.\n",
        "    :param outputs: Model outputs, np.ndarry with shape (10'000,) and values in {-1, 1}\n",
        "    \"\"\"\n",
        "    indices = np.arange(1, outputs.shape[0] + 1)\n",
        "    combined = np.column_stack((indices, outputs))\n",
        "\n",
        "    np.savetxt(\n",
        "        f'{file_name}.csv', combined, delimiter=',', fmt='%d', header=\"Id,Prediction\", comments='')"
      ],
      "metadata": {
        "id": "jVin1gd6JCtV"
      },
      "execution_count": 37,
      "outputs": []
    },
    {
      "cell_type": "code",
      "source": [
        "models = [0, 1, 2, 3, 4, 5]\n",
        "results = {}\n",
        "THRESHOLD = 0.5\n",
        "seed = 42\n",
        "set_seed(seed)"
      ],
      "metadata": {
        "id": "bNKE9POcEAGj"
      },
      "execution_count": 38,
      "outputs": []
    },
    {
      "cell_type": "code",
      "source": [
        "eval_labels = np.load('drive/MyDrive/ensemble-6/eval_labels.npy')\n",
        "eval_outputs = np.load('drive/MyDrive/ensemble-6/eval_outputs.npy')[:, models]\n",
        "test_outputs = np.load('drive/MyDrive/ensemble-6/test_outputs.npy')[:, models]\n",
        "\n",
        "eval_labels.shape, eval_outputs.shape, test_outputs.shape"
      ],
      "metadata": {
        "colab": {
          "base_uri": "https://localhost:8080/"
        },
        "id": "HiagCCK1s9eR",
        "outputId": "146667ee-286d-42ed-bd25-d739649b1e8b"
      },
      "execution_count": 39,
      "outputs": [
        {
          "output_type": "execute_result",
          "data": {
            "text/plain": [
              "((125000,), (125000, 6), (10000, 6))"
            ]
          },
          "metadata": {},
          "execution_count": 39
        }
      ]
    },
    {
      "cell_type": "code",
      "source": [
        "trainX, testX, trainY, testY = train_test_split(eval_outputs, eval_labels, test_size=0.5, random_state=seed)\n",
        "print(trainX.shape, testX.shape)"
      ],
      "metadata": {
        "colab": {
          "base_uri": "https://localhost:8080/"
        },
        "id": "uvxuppNrTbwx",
        "outputId": "1ea818de-1cd6-42bf-cdd6-7883d4aa45ee"
      },
      "execution_count": 40,
      "outputs": [
        {
          "output_type": "stream",
          "name": "stdout",
          "text": [
            "(62500, 6) (62500, 6)\n"
          ]
        }
      ]
    },
    {
      "cell_type": "code",
      "source": [
        "predictions = np.where(np.mean(testX, axis=1) >= THRESHOLD, 1, 0)\n",
        "print(f\"averaging accuracy: {accuracy_score(predictions, testY):.3%}\")\n",
        "\n",
        "results[\"avg\"] = np.mean(test_outputs, axis=1)\n",
        "results[\"avg\"] = np.where(results[\"avg\"] >= THRESHOLD, 1, -1)"
      ],
      "metadata": {
        "colab": {
          "base_uri": "https://localhost:8080/"
        },
        "id": "rZpMA_YjGsYu",
        "outputId": "b52c355b-fbf8-4486-c2e1-3ae6abea6537"
      },
      "execution_count": 41,
      "outputs": [
        {
          "output_type": "stream",
          "name": "stdout",
          "text": [
            "averaging accuracy: 92.206%\n"
          ]
        }
      ]
    },
    {
      "cell_type": "code",
      "source": [
        "names = [\"linear\", \"logistic\", \"ridge\"]\n",
        "models = [LinearRegression(), LogisticRegression(), Ridge()]\n",
        "\n",
        "for name, model in zip(names, models):\n",
        "  model.fit(trainX, trainY)\n",
        "  print(f\"\\n[{name}]\\nModel Importance Weights:\\n{model.coef_}\")\n",
        "\n",
        "  predictions = model.predict(testX)\n",
        "  predictions = np.where(predictions >= THRESHOLD, 1, 0)\n",
        "\n",
        "  print(f\"Accuracy: {accuracy_score(predictions, testY):.3%}\")\n",
        "\n",
        "  results[name] = model.predict(test_outputs)\n",
        "  results[name] = np.where(results[name] >= THRESHOLD, 1, -1)\n",
        "  diff = np.sum(results[\"avg\"] != results[name])\n",
        "  print(f\"Predictions Changed: {diff}\")"
      ],
      "metadata": {
        "colab": {
          "base_uri": "https://localhost:8080/"
        },
        "id": "NOLK-IgkE7We",
        "outputId": "ccc39283-dad1-450f-9324-35a1d5a0e074"
      },
      "execution_count": 42,
      "outputs": [
        {
          "output_type": "stream",
          "name": "stdout",
          "text": [
            "\n",
            "[linear]\n",
            "Model Importance Weights:\n",
            "[0.51401335 0.08768523 0.05689725 0.21484447 0.03155425 0.0706476 ]\n",
            "Accuracy: 92.403%\n",
            "Predictions Changed: 178\n",
            "\n",
            "[logistic]\n",
            "Model Importance Weights:\n",
            "[[3.71535659 0.61027907 0.22358713 1.33214774 0.40976643 0.52610315]]\n",
            "Accuracy: 92.422%\n",
            "Predictions Changed: 186\n",
            "\n",
            "[ridge]\n",
            "Model Importance Weights:\n",
            "[0.5131298  0.08755165 0.05727666 0.21464202 0.03014191 0.07285156]\n",
            "Accuracy: 92.406%\n",
            "Predictions Changed: 178\n"
          ]
        }
      ]
    },
    {
      "cell_type": "code",
      "source": [
        "for name in names:\n",
        "  save_outputs(results[name], name)"
      ],
      "metadata": {
        "id": "sq1y2eLGJJth"
      },
      "execution_count": 43,
      "outputs": []
    }
  ]
}